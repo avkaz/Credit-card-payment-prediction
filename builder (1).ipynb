{
  "cells": [
    {
      "cell_type": "markdown",
      "source": [
        "## Notebook that creates and deploys ML Classification project using Azure ML, MLflow, Scikit-learn and Pandas"
      ],
      "metadata": {
        "nteract": {
          "transient": {
            "deleting": false
          }
        }
      }
    },
    {
      "cell_type": "markdown",
      "source": [
        "----------------------------------------------------------------------------------\n",
        "- ##### Data accessed via external url\n",
        "- ##### Gradient Boosting Classifier is used for classification task \n",
        "- ##### Script is not reusable since \"Components\" for the pipeline are not created \n",
        "----------------------------------------------------------------------------------"
      ],
      "metadata": {
        "nteract": {
          "transient": {
            "deleting": false
          }
        }
      }
    },
    {
      "cell_type": "markdown",
      "source": [
        "### Creating handle to workspace"
      ],
      "metadata": {}
    },
    {
      "cell_type": "code",
      "source": [
        "from azure.ai.ml import MLClient\n",
        "from azure.identity import DefaultAzureCredential\n",
        "\n",
        "# authentication\n",
        "credential = DefaultAzureCredential()\n",
        "ml_client = MLClient.from_config(credential, path = \".config.json\")\n",
        "\n",
        "# verification\n",
        "ws = ml_client.workspaces.get(\"alexlearn_ML_Studio\")\n",
        "print(ws.location,\":\", ws.resource_group)"
      ],
      "outputs": [
        {
          "output_type": "stream",
          "name": "stderr",
          "text": "Found the config file in: /mnt/batch/tasks/shared/LS_root/mounts/clusters/alexlearncompute/code/Users/alexey.kazakov/likelihood of credit card payment/config.json\n"
        },
        {
          "output_type": "stream",
          "name": "stdout",
          "text": "westeurope : DSCGlobalCEEDTANLTst\n"
        }
      ],
      "execution_count": 1,
      "metadata": {
        "gather": {
          "logged": 1724859271664
        }
      }
    },
    {
      "cell_type": "markdown",
      "source": [
        "### Creating a job environment"
      ],
      "metadata": {}
    },
    {
      "cell_type": "markdown",
      "source": [
        "##### Creating directory fro storing configuration file"
      ],
      "metadata": {}
    },
    {
      "cell_type": "code",
      "source": [
        "import os\n",
        "\n",
        "dependencies_dir = \"./dependencies\"\n",
        "os.makedirs(dependencies_dir, exist_ok=True)"
      ],
      "outputs": [],
      "execution_count": 2,
      "metadata": {
        "gather": {
          "logged": 1724859271808
        }
      }
    },
    {
      "cell_type": "markdown",
      "source": [
        "##### Creating yaml file"
      ],
      "metadata": {}
    },
    {
      "cell_type": "code",
      "source": [
        "%%writefile {dependencies_dir}/conda.yaml\n",
        "name: model-env\n",
        "channels:\n",
        "  - conda-forge\n",
        "dependencies:\n",
        "  - python=3.8\n",
        "  - numpy=1.21.2\n",
        "  - pip=21.2.4\n",
        "  - scikit-learn=1.0.2\n",
        "  - scipy=1.7.1\n",
        "  - pandas>=1.1,<1.2\n",
        "  - pip:\n",
        "    - inference-schema[numpy-support]==1.3.0\n",
        "    - mlflow==2.8.0\n",
        "    - mlflow-skinny==2.8.0\n",
        "    - azureml-mlflow==1.51.0\n",
        "    - psutil>=5.8,<5.9\n",
        "    - tqdm>=4.59,<4.60\n",
        "    - ipykernel~=6.0\n",
        "    - matplotlib"
      ],
      "outputs": [
        {
          "output_type": "stream",
          "name": "stdout",
          "text": "Overwriting ./dependencies/conda.yaml\n"
        }
      ],
      "execution_count": 3,
      "metadata": {}
    },
    {
      "cell_type": "markdown",
      "source": [
        "##### Referencing yaml file to create and register a custom environment"
      ],
      "metadata": {}
    },
    {
      "cell_type": "code",
      "source": [
        "from azure.ai.ml.entities import Environment\n",
        "\n",
        "custom_env_name = \"aml-scikit-learn\"\n",
        "\n",
        "custom_job_env = Environment(\n",
        "    name=custom_env_name,\n",
        "    description=\"Custom environment for Credit Card Defaults job\",\n",
        "    tags={\"scikit-learn\": \"1.0.2\"},\n",
        "    conda_file=os.path.join(dependencies_dir, \"conda.yaml\"),\n",
        "    image=\"mcr.microsoft.com/azureml/openmpi4.1.0-ubuntu20.04:latest\",\n",
        ")\n",
        "custom_job_env = ml_client.environments.create_or_update(custom_job_env)\n",
        "\n",
        "print(\n",
        "    f\"Environment with name {custom_job_env.name} is registered to workspace, the environment version is {custom_job_env.version}\"\n",
        ")"
      ],
      "outputs": [
        {
          "output_type": "stream",
          "name": "stdout",
          "text": "Environment with name aml-scikit-learn is registered to workspace, the environment version is 2\n"
        }
      ],
      "execution_count": 4,
      "metadata": {
        "gather": {
          "logged": 1724859273231
        }
      }
    },
    {
      "cell_type": "markdown",
      "source": [
        "### Creating training script"
      ],
      "metadata": {}
    },
    {
      "cell_type": "markdown",
      "source": [
        "##### Creating source folder for the script"
      ],
      "metadata": {}
    },
    {
      "cell_type": "code",
      "source": [
        "import os\n",
        "\n",
        "train_src_dir = \"./src\"\n",
        "os.makedirs(train_src_dir, exist_ok=True)"
      ],
      "outputs": [],
      "execution_count": 5,
      "metadata": {
        "gather": {
          "logged": 1724859273362
        }
      }
    },
    {
      "cell_type": "markdown",
      "source": [
        "##### Creating training script in source folder"
      ],
      "metadata": {}
    },
    {
      "cell_type": "code",
      "source": [
        "%%writefile {train_src_dir}/main.py\n",
        "import os\n",
        "import argparse\n",
        "import pandas as pd\n",
        "import mlflow\n",
        "import mlflow.sklearn\n",
        "from sklearn.ensemble import GradientBoostingClassifier\n",
        "from sklearn.metrics import classification_report\n",
        "from sklearn.model_selection import train_test_split\n",
        "\n",
        "def main():\n",
        "    \"\"\"Main function of the script.\"\"\"\n",
        "\n",
        "    # input and output arguments\n",
        "    parser = argparse.ArgumentParser()\n",
        "    parser.add_argument(\"--data\", type=str, help=\"path to input data\")\n",
        "    parser.add_argument(\"--test_train_ratio\", type=float, required=False, default=0.25)\n",
        "    parser.add_argument(\"--n_estimators\", required=False, default=100, type=int)\n",
        "    parser.add_argument(\"--learning_rate\", required=False, default=0.1, type=float)\n",
        "    parser.add_argument(\"--registered_model_name\", type=str, help=\"model name\")\n",
        "    args = parser.parse_args()\n",
        "   \n",
        "    # Start Logging\n",
        "    mlflow.start_run()\n",
        "\n",
        "    # enable autologging\n",
        "    mlflow.sklearn.autolog()\n",
        "\n",
        "    ###################\n",
        "    #<prepare the data>\n",
        "    ###################\n",
        "    print(\" \".join(f\"{key}={value}\" for key, value in vars(args).items()))\n",
        "\n",
        "    print(\"input data:\", args.data)\n",
        "    \n",
        "    credit_df = pd.read_csv(args.data, header=1, index_col=0)\n",
        "\n",
        "    mlflow.log_metric(\"num_samples\", credit_df.shape[0])\n",
        "    mlflow.log_metric(\"num_features\", credit_df.shape[1] - 1)\n",
        "\n",
        "    #Split train and test datasets\n",
        "    train_df, test_df = train_test_split(\n",
        "        credit_df,\n",
        "        test_size=args.test_train_ratio,\n",
        "    )\n",
        "    ####################\n",
        "    #</prepare the data>\n",
        "    ####################\n",
        "\n",
        "    ##################\n",
        "    #<train the model>\n",
        "    ##################\n",
        "    # Extracting the label column\n",
        "    y_train = train_df.pop(\"default payment next month\")\n",
        "\n",
        "    # convert the dataframe values to array\n",
        "    X_train = train_df.values\n",
        "\n",
        "    # Extracting the label column\n",
        "    y_test = test_df.pop(\"default payment next month\")\n",
        "\n",
        "    # convert the dataframe values to array\n",
        "    X_test = test_df.values\n",
        "\n",
        "    print(f\"Training with data of shape {X_train.shape}\")\n",
        "\n",
        "    clf = GradientBoostingClassifier(\n",
        "        n_estimators=args.n_estimators, learning_rate=args.learning_rate\n",
        "    )\n",
        "    clf.fit(X_train, y_train)\n",
        "\n",
        "    y_pred = clf.predict(X_test)\n",
        "\n",
        "    print(classification_report(y_test, y_pred))\n",
        "    ###################\n",
        "    #</train the model>\n",
        "    ###################\n",
        "\n",
        "    ##########################\n",
        "    #<save and register model>\n",
        "    ##########################\n",
        "    # Registering the model to the workspace\n",
        "    print(\"Registering the model via MLFlow\")\n",
        "    mlflow.sklearn.log_model(\n",
        "        sk_model=clf,\n",
        "        registered_model_name=args.registered_model_name,\n",
        "        artifact_path=args.registered_model_name,\n",
        "    )\n",
        "\n",
        "    # Saving the model to a file\n",
        "    mlflow.sklearn.save_model(\n",
        "        sk_model=clf,\n",
        "        path=os.path.join(args.registered_model_name, \"trained_model\"),\n",
        "    )\n",
        "    ###########################\n",
        "    #</save and register model>\n",
        "    ###########################\n",
        "    \n",
        "    # Stop Logging\n",
        "    mlflow.end_run()\n",
        "\n",
        "if __name__ == \"__main__\":\n",
        "    main()"
      ],
      "outputs": [
        {
          "output_type": "stream",
          "name": "stdout",
          "text": "Overwriting ./src/main.py\n"
        }
      ],
      "execution_count": 6,
      "metadata": {}
    },
    {
      "cell_type": "markdown",
      "source": [
        "### Configuring the command"
      ],
      "metadata": {}
    },
    {
      "cell_type": "code",
      "source": [
        "from azure.ai.ml import command\n",
        "from azure.ai.ml import Input\n",
        "\n",
        "registered_model_name = \"credit_defaults_model\"\n",
        "\n",
        "job = command(\n",
        "    inputs=dict(\n",
        "        data=Input(\n",
        "            type=\"uri_file\",\n",
        "            path=\"https://azuremlexamples.blob.core.windows.net/datasets/credit_card/default_of_credit_card_clients.csv\",\n",
        "        ),\n",
        "        test_train_ratio=0.2,\n",
        "        learning_rate=0.25,\n",
        "        registered_model_name=registered_model_name,\n",
        "    ),\n",
        "    code=\"./src/\",  # location of source code\n",
        "    command=\"python main.py --data ${{inputs.data}} --test_train_ratio ${{inputs.test_train_ratio}} --learning_rate ${{inputs.learning_rate}} --registered_model_name ${{inputs.registered_model_name}}\",\n",
        "    environment=\"aml-scikit-learn@latest\",\n",
        "    display_name=\"credit_default_prediction\",\n",
        ")"
      ],
      "outputs": [],
      "execution_count": 7,
      "metadata": {
        "gather": {
          "logged": 1724859273891
        }
      }
    },
    {
      "cell_type": "markdown",
      "source": [
        "### Submitting the job "
      ],
      "metadata": {}
    },
    {
      "cell_type": "code",
      "source": [
        "ml_client.create_or_update(job)"
      ],
      "outputs": [
        {
          "output_type": "stream",
          "name": "stderr",
          "text": "Class AutoDeleteSettingSchema: This is an experimental class, and may change at any time. Please see https://aka.ms/azuremlexperimental for more information.\nClass AutoDeleteConditionSchema: This is an experimental class, and may change at any time. Please see https://aka.ms/azuremlexperimental for more information.\nClass BaseAutoDeleteSettingSchema: This is an experimental class, and may change at any time. Please see https://aka.ms/azuremlexperimental for more information.\nClass IntellectualPropertySchema: This is an experimental class, and may change at any time. Please see https://aka.ms/azuremlexperimental for more information.\nClass ProtectionLevelSchema: This is an experimental class, and may change at any time. Please see https://aka.ms/azuremlexperimental for more information.\nClass BaseIntellectualPropertySchema: This is an experimental class, and may change at any time. Please see https://aka.ms/azuremlexperimental for more information.\n"
        },
        {
          "output_type": "execute_result",
          "execution_count": 8,
          "data": {
            "text/plain": "Command({'parameters': {}, 'init': False, 'name': 'tidy_comb_zq7kmgrq1l', 'type': 'command', 'status': 'Starting', 'log_files': None, 'description': None, 'tags': {}, 'properties': {'_azureml.ComputeTargetType': 'amlctrain', '_azureml.ClusterName': None, 'ContentSnapshotId': '5342ef0d-4846-4e26-b1a4-170ea70db4a1'}, 'print_as_yaml': False, 'id': '/subscriptions/8b20e38c-72fb-4030-a702-128e713479ca/resourceGroups/dscglobalceedtanltst/providers/Microsoft.MachineLearningServices/workspaces/alexlearn_ML_Studio/jobs/tidy_comb_zq7kmgrq1l', 'Resource__source_path': '', 'base_path': '/mnt/batch/tasks/shared/LS_root/mounts/clusters/alexlearncompute/code/Users/alexey.kazakov/likelihood of credit card payment', 'creation_context': <azure.ai.ml.entities._system_data.SystemData object at 0x7f074a623370>, 'serialize': <msrest.serialization.Serializer object at 0x7f074a622470>, 'allowed_keys': {}, 'key_restriction': False, 'logger': <TraceLogger attr_dict (WARNING)>, 'display_name': 'credit_default_prediction', 'experiment_name': 'likelihoodofcreditcardpayment', 'compute': None, 'services': {'Tracking': {'endpoint': 'azureml://westeurope.api.azureml.ms/mlflow/v1.0/subscriptions/8b20e38c-72fb-4030-a702-128e713479ca/resourceGroups/dscglobalceedtanltst/providers/Microsoft.MachineLearningServices/workspaces/alexlearn_ML_Studio?', 'type': 'Tracking'}, 'Studio': {'endpoint': 'https://ml.azure.com/runs/tidy_comb_zq7kmgrq1l?wsid=/subscriptions/8b20e38c-72fb-4030-a702-128e713479ca/resourcegroups/dscglobalceedtanltst/workspaces/alexlearn_ML_Studio&tid=cd99fef8-1cd3-4a2a-9bdf-15531181d65e', 'type': 'Studio'}}, 'comment': None, 'job_inputs': {'data': {'type': 'uri_file', 'path': 'https://azuremlexamples.blob.core.windows.net/datasets/credit_card/default_of_credit_card_clients.csv', 'mode': 'ro_mount'}, 'test_train_ratio': '0.2', 'learning_rate': '0.25', 'registered_model_name': 'credit_defaults_model'}, 'job_outputs': {'default': {'type': 'uri_folder', 'path': 'azureml://datastores/workspaceartifactstore/ExperimentRun/dcid.tidy_comb_zq7kmgrq1l', 'mode': 'rw_mount'}}, 'inputs': {'data': <azure.ai.ml.entities._job.pipeline._io.base.NodeInput object at 0x7f074a6227d0>, 'test_train_ratio': <azure.ai.ml.entities._job.pipeline._io.base.NodeInput object at 0x7f074a623970>, 'learning_rate': <azure.ai.ml.entities._job.pipeline._io.base.NodeInput object at 0x7f074a6225f0>, 'registered_model_name': <azure.ai.ml.entities._job.pipeline._io.base.NodeInput object at 0x7f074a623190>}, 'outputs': {'default': <azure.ai.ml.entities._job.pipeline._io.base.NodeOutput object at 0x7f074a621d50>}, 'component': CommandComponent({'latest_version': None, 'intellectual_property': None, 'auto_increment_version': True, 'source': 'REMOTE.WORKSPACE.JOB', 'is_anonymous': False, 'auto_delete_setting': None, 'name': 'tidy_comb_zq7kmgrq1l', 'description': None, 'tags': {}, 'properties': {}, 'print_as_yaml': False, 'id': None, 'Resource__source_path': None, 'base_path': '/mnt/batch/tasks/shared/LS_root/mounts/clusters/alexlearncompute/code/Users/alexey.kazakov/likelihood of credit card payment', 'creation_context': <azure.ai.ml.entities._system_data.SystemData object at 0x7f074a623370>, 'serialize': <msrest.serialization.Serializer object at 0x7f074a6224d0>, 'command': 'python main.py --data ${{inputs.data}} --test_train_ratio ${{inputs.test_train_ratio}} --learning_rate ${{inputs.learning_rate}} --registered_model_name ${{inputs.registered_model_name}}', 'code': '/subscriptions/8b20e38c-72fb-4030-a702-128e713479ca/resourceGroups/dscglobalceedtanltst/providers/Microsoft.MachineLearningServices/workspaces/alexlearn_ML_Studio/codes/68350cba-8844-4a46-807b-e305d902af7f/versions/1', 'environment_variables': {}, 'environment': '/subscriptions/8b20e38c-72fb-4030-a702-128e713479ca/resourceGroups/dscglobalceedtanltst/providers/Microsoft.MachineLearningServices/workspaces/alexlearn_ML_Studio/environments/aml-scikit-learn/versions/2', 'distribution': None, 'resources': None, 'queue_settings': None, 'version': None, 'schema': None, 'type': 'command', 'display_name': 'credit_default_prediction', 'is_deterministic': True, 'inputs': {'data': {'type': 'uri_file', 'path': 'https://azuremlexamples.blob.core.windows.net/datasets/credit_card/default_of_credit_card_clients.csv', 'mode': 'ro_mount'}, 'test_train_ratio': {'type': 'string', 'default': '0.2'}, 'learning_rate': {'type': 'string', 'default': '0.25'}, 'registered_model_name': {'type': 'string', 'default': 'credit_defaults_model'}}, 'outputs': {'default': {'type': 'uri_folder', 'path': 'azureml://datastores/workspaceartifactstore/ExperimentRun/dcid.tidy_comb_zq7kmgrq1l', 'mode': 'rw_mount'}}, 'yaml_str': None, 'other_parameter': {'status': 'Starting', 'parameters': {}}, 'additional_includes': []}), 'referenced_control_flow_node_instance_id': None, 'kwargs': {'services': {'Tracking': {'endpoint': 'azureml://westeurope.api.azureml.ms/mlflow/v1.0/subscriptions/8b20e38c-72fb-4030-a702-128e713479ca/resourceGroups/dscglobalceedtanltst/providers/Microsoft.MachineLearningServices/workspaces/alexlearn_ML_Studio?', 'type': 'Tracking'}, 'Studio': {'endpoint': 'https://ml.azure.com/runs/tidy_comb_zq7kmgrq1l?wsid=/subscriptions/8b20e38c-72fb-4030-a702-128e713479ca/resourcegroups/dscglobalceedtanltst/workspaces/alexlearn_ML_Studio&tid=cd99fef8-1cd3-4a2a-9bdf-15531181d65e', 'type': 'Studio'}}, 'status': 'Starting', 'creation_context': <azure.ai.ml.entities._system_data.SystemData object at 0x7f074a623370>}, 'instance_id': 'f625c6f3-e995-4e97-854b-76d126c13189', 'source': 'BUILDER', 'validate_required_input_not_provided': True, 'limits': None, 'identity': None, 'distribution': None, 'environment_variables': {}, 'environment': 'aml-scikit-learn:2', 'resources': {'instance_count': 1, 'shm_size': '2g'}, 'queue_settings': {'job_tier': 'standard'}, 'swept': False})",
            "text/html": "<table style=\"width:100%\"><tr><th>Experiment</th><th>Name</th><th>Type</th><th>Status</th><th>Details Page</th></tr><tr><td>likelihoodofcreditcardpayment</td><td>tidy_comb_zq7kmgrq1l</td><td>command</td><td>Starting</td><td><a href=\"https://ml.azure.com/runs/tidy_comb_zq7kmgrq1l?wsid=/subscriptions/8b20e38c-72fb-4030-a702-128e713479ca/resourcegroups/dscglobalceedtanltst/workspaces/alexlearn_ML_Studio&amp;tid=cd99fef8-1cd3-4a2a-9bdf-15531181d65e\" target=\"_blank\" rel=\"noopener\">Link to Azure Machine Learning studio</a></td></tr></table>"
          },
          "metadata": {}
        }
      ],
      "execution_count": 8,
      "metadata": {
        "gather": {
          "logged": 1724859276135
        }
      }
    },
    {
      "cell_type": "markdown",
      "source": [
        "### Create an online Endpoint"
      ],
      "metadata": {}
    },
    {
      "cell_type": "code",
      "source": [
        "import uuid\n",
        "\n",
        "# Create a unique name for the endpoint\n",
        "online_endpoint_name = \"credit-endpoint-\" + str(uuid.uuid4())[:8]"
      ],
      "outputs": [],
      "execution_count": 9,
      "metadata": {
        "gather": {
          "logged": 1724859276249
        }
      }
    },
    {
      "cell_type": "code",
      "source": [
        "from azure.ai.ml.entities import ManagedOnlineEndpoint\n",
        "\n",
        "# define an online endpoint\n",
        "endpoint = ManagedOnlineEndpoint(\n",
        "    name=online_endpoint_name,\n",
        "    description=\"this is an online endpoint\",\n",
        "    auth_mode=\"key\",\n",
        "    tags={\n",
        "        \"training_dataset\": \"credit_defaults\",\n",
        "    },\n",
        ")"
      ],
      "outputs": [],
      "execution_count": 10,
      "metadata": {
        "gather": {
          "logged": 1724859276376
        }
      }
    },
    {
      "cell_type": "code",
      "source": [
        "# create the online endpoint\n",
        "# expect the endpoint to take approximately 2 minutes.\n",
        "\n",
        "endpoint = ml_client.online_endpoints.begin_create_or_update(endpoint).result()"
      ],
      "outputs": [],
      "execution_count": 11,
      "metadata": {
        "gather": {
          "logged": 1724859339062
        }
      }
    },
    {
      "cell_type": "markdown",
      "source": [
        "##### Checking availability of the checkpoint"
      ],
      "metadata": {}
    },
    {
      "cell_type": "code",
      "source": [
        "endpoint = ml_client.online_endpoints.get(name=online_endpoint_name)\n",
        "\n",
        "print(\n",
        "    f'Endpoint \"{endpoint.name}\" with provisioning state \"{endpoint.provisioning_state}\" is retrieved'\n",
        ")"
      ],
      "outputs": [
        {
          "output_type": "stream",
          "name": "stdout",
          "text": "Endpoint \"credit-endpoint-eea481bc\" with provisioning state \"Succeeded\" is retrieved\n"
        }
      ],
      "execution_count": 12,
      "metadata": {
        "gather": {
          "logged": 1724859339386
        }
      }
    },
    {
      "cell_type": "markdown",
      "source": [
        "### Deploy the model to the endpoint"
      ],
      "metadata": {}
    },
    {
      "cell_type": "code",
      "source": [
        "registered_model_name = \"credit_defaults_model\"\n",
        "\n",
        "# Let's pick the latest version of the model\n",
        "latest_model_version = max(\n",
        "    [int(m.version) for m in ml_client.models.list(name=registered_model_name)]\n",
        ")\n",
        "\n",
        "print(latest_model_version)"
      ],
      "outputs": [
        {
          "output_type": "stream",
          "name": "stdout",
          "text": "2\n"
        }
      ],
      "execution_count": 13,
      "metadata": {
        "gather": {
          "logged": 1724859339541
        }
      }
    },
    {
      "cell_type": "code",
      "source": [
        "from azure.ai.ml.entities import ManagedOnlineDeployment\n",
        "\n",
        "# Choose the latest version of the registered model for deployment\n",
        "model = ml_client.models.get(name=registered_model_name, version=latest_model_version)\n",
        "\n",
        "# define an online deployment\n",
        "blue_deployment = ManagedOnlineDeployment(\n",
        "    name=\"blue\",\n",
        "    endpoint_name=online_endpoint_name,\n",
        "    model=model,\n",
        "    instance_type=\"Standard_DS3_v2\",\n",
        "    instance_count=1,\n",
        ")"
      ],
      "outputs": [],
      "execution_count": 14,
      "metadata": {
        "gather": {
          "logged": 1724859339734
        }
      }
    },
    {
      "cell_type": "code",
      "source": [
        "# create the online deployment\n",
        "blue_deployment = ml_client.online_deployments.begin_create_or_update(\n",
        "    blue_deployment\n",
        ").result()\n",
        "\n",
        "# blue deployment takes 100% traffic\n",
        "# expect the deployment to take approximately 8 to 10 minutes.\n",
        "endpoint.traffic = {\"blue\": 100}\n",
        "ml_client.online_endpoints.begin_create_or_update(endpoint).result()"
      ],
      "outputs": [
        {
          "output_type": "stream",
          "name": "stderr",
          "text": "Check: endpoint credit-endpoint-eea481bc exists\nReadonly attribute principal_id will be ignored in class <class 'azure.ai.ml._restclient.v2022_05_01.models._models_py3.ManagedServiceIdentity'>\nReadonly attribute tenant_id will be ignored in class <class 'azure.ai.ml._restclient.v2022_05_01.models._models_py3.ManagedServiceIdentity'>\n"
        },
        {
          "output_type": "stream",
          "name": "stdout",
          "text": "......................................................................................."
        },
        {
          "output_type": "execute_result",
          "execution_count": 15,
          "data": {
            "text/plain": "ManagedOnlineEndpoint({'public_network_access': 'Enabled', 'provisioning_state': 'Succeeded', 'scoring_uri': 'https://credit-endpoint-eea481bc.westeurope.inference.ml.azure.com/score', 'openapi_uri': 'https://credit-endpoint-eea481bc.westeurope.inference.ml.azure.com/swagger.json', 'name': 'credit-endpoint-eea481bc', 'description': 'this is an online endpoint', 'tags': {'training_dataset': 'credit_defaults'}, 'properties': {'createdBy': 'Alexey Kazakov (DHL Supply Chain)', 'createdAt': '2024-08-28T15:34:37.956189+0000', 'lastModifiedAt': '2024-08-28T15:34:37.956189+0000', 'azureml.onlineendpointid': '/subscriptions/8b20e38c-72fb-4030-a702-128e713479ca/resourcegroups/dscglobalceedtanltst/providers/microsoft.machinelearningservices/workspaces/alexlearn_ml_studio/onlineendpoints/credit-endpoint-eea481bc', 'AzureAsyncOperationUri': 'https://management.azure.com/subscriptions/8b20e38c-72fb-4030-a702-128e713479ca/providers/Microsoft.MachineLearningServices/locations/westeurope/mfeOperationsStatus/oeidp:9d51182b-b7c7-49fd-9d62-553e1490a69c:0e3f77b6-2fcb-4c96-8cc7-f3c311d784af?api-version=2022-02-01-preview'}, 'print_as_yaml': False, 'id': '/subscriptions/8b20e38c-72fb-4030-a702-128e713479ca/resourceGroups/dscglobalceedtanltst/providers/Microsoft.MachineLearningServices/workspaces/alexlearn_ML_Studio/onlineEndpoints/credit-endpoint-eea481bc', 'Resource__source_path': '', 'base_path': '/mnt/batch/tasks/shared/LS_root/mounts/clusters/alexlearncompute/code/Users/alexey.kazakov/likelihood of credit card payment', 'creation_context': None, 'serialize': <msrest.serialization.Serializer object at 0x7f074a66d150>, 'auth_mode': 'key', 'location': 'westeurope', 'identity': <azure.ai.ml.entities._credentials.IdentityConfiguration object at 0x7f074a6222c0>, 'traffic': {'blue': 100}, 'mirror_traffic': {}, 'kind': 'Managed'})"
          },
          "metadata": {}
        }
      ],
      "execution_count": 15,
      "metadata": {
        "gather": {
          "logged": 1724859816508
        }
      }
    },
    {
      "cell_type": "markdown",
      "source": [
        "### Checking the status of the endpoint"
      ],
      "metadata": {}
    },
    {
      "cell_type": "code",
      "source": [
        "# return an object that contains metadata for the endpoint\n",
        "endpoint = ml_client.online_endpoints.get(name=online_endpoint_name)\n",
        "\n",
        "# print a selection of the endpoint's metadata\n",
        "print(\n",
        "    f\"Name: {endpoint.name}\\nStatus: {endpoint.provisioning_state}\\nDescription: {endpoint.description}\"\n",
        ")"
      ],
      "outputs": [
        {
          "output_type": "stream",
          "name": "stdout",
          "text": "Name: credit-endpoint-eea481bc\nStatus: Succeeded\nDescription: this is an online endpoint\n"
        }
      ],
      "execution_count": 16,
      "metadata": {
        "gather": {
          "logged": 1724859816682
        }
      }
    },
    {
      "cell_type": "markdown",
      "source": [
        "### Testing the endpoint with sample data"
      ],
      "metadata": {}
    },
    {
      "cell_type": "code",
      "source": [
        "import os\n",
        "\n",
        "# Create a directory to store the sample request file.\n",
        "deploy_dir = \"./deploy\"\n",
        "os.makedirs(deploy_dir, exist_ok=True)"
      ],
      "outputs": [],
      "execution_count": 17,
      "metadata": {
        "gather": {
          "logged": 1724859816817
        }
      }
    },
    {
      "cell_type": "code",
      "source": [
        "%%writefile {deploy_dir}/sample-request.json\n",
        "{\n",
        "  \"input_data\": {\n",
        "    \"columns\": [0,1,2,3,4,5,6,7,8,9,10,11,12,13,14,15,16,17,18,19,20,21,22],\n",
        "    \"index\": [0, 1],\n",
        "    \"data\": [\n",
        "            [20000,2,2,1,24,2,2,-1,-1,-2,-2,3913,3102,689,0,0,0,0,689,0,0,0,0],\n",
        "            [10, 9, 8, 7, 6, 5, 4, 3, 2, 1, 10, 9, 8, 7, 6, 5, 4, 3, 2, 1, 10, 9, 8]\n",
        "            ]\n",
        "                }\n",
        "}"
      ],
      "outputs": [
        {
          "output_type": "stream",
          "name": "stdout",
          "text": "Overwriting ./deploy/sample-request.json\n"
        }
      ],
      "execution_count": 18,
      "metadata": {}
    },
    {
      "cell_type": "code",
      "source": [
        "# test the blue deployment with the sample data\n",
        "ml_client.online_endpoints.invoke(\n",
        "    endpoint_name=online_endpoint_name,\n",
        "    deployment_name=\"blue\",\n",
        "    request_file=\"./deploy/sample-request.json\",\n",
        ")"
      ],
      "outputs": [
        {
          "output_type": "execute_result",
          "execution_count": 19,
          "data": {
            "text/plain": "'[1, 0]'"
          },
          "metadata": {}
        }
      ],
      "execution_count": 19,
      "metadata": {
        "gather": {
          "logged": 1724859817896
        }
      }
    },
    {
      "cell_type": "markdown",
      "source": [
        "##### Get logs of the deployment"
      ],
      "metadata": {}
    },
    {
      "cell_type": "code",
      "source": [
        "logs = ml_client.online_deployments.get_logs(\n",
        "    name=\"blue\", endpoint_name=online_endpoint_name, lines=50\n",
        ")\n",
        "print(logs)"
      ],
      "outputs": [
        {
          "output_type": "stream",
          "name": "stdout",
          "text": "Instance status:\nSystemSetup: Succeeded\nUserContainerImagePull: Succeeded\nModelDownload: Succeeded\nUserContainerStart: Succeeded\n\nContainer events:\nKind: Pod, Name: ReadinessProbeFailed, Type: Warning, Time: 2024-08-28T15:40:30.15498Z, Message: Readiness probe failed: HTTP probe failed with statuscode: 502\nKind: Pod, Name: LivenessProbeFailed, Type: Warning, Time: 2024-08-28T15:40:36.048998Z, Message: Liveness probe failed: HTTP probe failed with statuscode: 502\nKind: Pod, Name: ReadinessProbeFailed, Type: Warning, Time: 2024-08-28T15:40:40.155076Z, Message: Readiness probe failed: HTTP probe failed with statuscode: 502\nKind: Pod, Name: LivenessProbeFailed, Type: Warning, Time: 2024-08-28T15:40:46.049119Z, Message: Liveness probe failed: HTTP probe failed with statuscode: 502\nKind: Pod, Name: ReadinessProbeFailed, Type: Warning, Time: 2024-08-28T15:40:50.154899Z, Message: Readiness probe failed: HTTP probe failed with statuscode: 502\nKind: Pod, Name: LivenessProbeFailed, Type: Warning, Time: 2024-08-28T15:40:56.048881Z, Message: Liveness probe failed: HTTP probe failed with statuscode: 502\nKind: Pod, Name: ReadinessProbeFailed, Type: Warning, Time: 2024-08-28T15:41:00.155102Z, Message: Readiness probe failed: HTTP probe failed with statuscode: 502\nKind: Pod, Name: LivenessProbeFailed, Type: Warning, Time: 2024-08-28T15:41:06.049128Z, Message: Liveness probe failed: HTTP probe failed with statuscode: 502\nKind: Pod, Name: ReadinessProbeFailed, Type: Warning, Time: 2024-08-28T15:41:10.1549Z, Message: Readiness probe failed: HTTP probe failed with statuscode: 502\nKind: Pod, Name: LivenessProbeFailed, Type: Warning, Time: 2024-08-28T15:41:16.048966Z, Message: Liveness probe failed: HTTP probe failed with statuscode: 502\nKind: Pod, Name: ReadinessProbeFailed, Type: Warning, Time: 2024-08-28T15:41:20.154854Z, Message: Readiness probe failed: HTTP probe failed with statuscode: 502\nKind: Pod, Name: LivenessProbeFailed, Type: Warning, Time: 2024-08-28T15:41:26.049002Z, Message: Liveness probe failed: HTTP probe failed with statuscode: 502\nKind: Pod, Name: ReadinessProbeFailed, Type: Warning, Time: 2024-08-28T15:41:30.154949Z, Message: Readiness probe failed: HTTP probe failed with statuscode: 502\nKind: Pod, Name: LivenessProbeFailed, Type: Warning, Time: 2024-08-28T15:41:36.050513Z, Message: Liveness probe failed: HTTP probe failed with statuscode: 502\nKind: Pod, Name: ReadinessProbeFailed, Type: Warning, Time: 2024-08-28T15:41:40.154895Z, Message: Readiness probe failed: HTTP probe failed with statuscode: 502\nKind: Pod, Name: LivenessProbeFailed, Type: Warning, Time: 2024-08-28T15:41:46.048917Z, Message: Liveness probe failed: HTTP probe failed with statuscode: 502\nKind: Pod, Name: ReadinessProbeFailed, Type: Warning, Time: 2024-08-28T15:41:50.154986Z, Message: Readiness probe failed: HTTP probe failed with statuscode: 502\nKind: Pod, Name: LivenessProbeFailed, Type: Warning, Time: 2024-08-28T15:41:56.048919Z, Message: Liveness probe failed: HTTP probe failed with statuscode: 502\nKind: Pod, Name: ReadinessProbeFailed, Type: Warning, Time: 2024-08-28T15:42:00.154996Z, Message: Readiness probe failed: HTTP probe failed with statuscode: 502\nKind: Pod, Name: ContainerReady, Type: Normal, Time: 2024-08-28T15:42:13.696092206Z, Message: Container is ready\n\nContainer logs:\n/opt/miniconda/envs/userenv/lib/python3.8/site-packages/pydantic/_internal/_fields.py:160: UserWarning: Field \"model_dc_storage_enabled\" has conflict with protected namespace \"model_\".\n\nYou may be able to resolve this warning by setting `model_config['protected_namespaces'] = ('settings_',)`.\n  warnings.warn(\n2024-08-28 15:42:01,914 I [131] azmlinfsrv - AML_FLASK_ONE_COMPATIBILITY is set. Patched Flask to ensure compatibility with Flask 1.\nInitializing logger\n2024-08-28 15:42:01,916 I [131] azmlinfsrv - Starting up app insights client\n/opt/miniconda/envs/userenv/lib/python3.8/site-packages/pydantic/_internal/_fields.py:160: UserWarning: Field \"model_server_url\" has conflict with protected namespace \"model_\".\n\nYou may be able to resolve this warning by setting `model_config['protected_namespaces'] = ()`.\n  warnings.warn(\n/opt/miniconda/envs/userenv/lib/python3.8/site-packages/pydantic/_internal/_config.py:334: UserWarning: Valid config keys have changed in V2:\n* 'schema_extra' has been renamed to 'json_schema_extra'\n  warnings.warn(message, UserWarning)\nWARNING:entry_module:No signature information provided for model. If no sample information was provided with the model the deployment's swagger will not include input and output schema and typing information.For more information, please see: https://aka.ms/aml-mlflow-deploy.\n2024-08-28 15:42:03,474 I [131] azmlinfsrv.user_script - Found user script at /var/mlflow_resources/mlflow_score_script.py\n2024-08-28 15:42:03,474 I [131] azmlinfsrv.user_script - run() is decorated with @input_schema. Server will invoke it with the following arguments: input_data, params.\n2024-08-28 15:42:03,474 I [131] azmlinfsrv.user_script - Invoking user's init function\n2024-08-28 15:42:03,475 | mdc | INFO | init data collector\n2024-08-28 15:42:03,475 | mdc | INFO | mdc enabled: False\n2024-08-28 15:42:03,476 | mdc | INFO | mdc collections count 0\n2024-08-28 15:42:03,476 | mdc | WARNING | data collector is not enabled\nERROR:entry_module:Error initializing model_inputs collector and model_outputs collector. custom logging is not enabled, drop the data\n2024-08-28 15:42:03,476 I [131] azmlinfsrv.user_script - Users's init has completed successfully\n2024-08-28 15:42:03,477 I [131] azmlinfsrv.swagger - Swaggers are prepared for the following versions: [2, 3, 3.1].\n2024-08-28 15:42:03,477 I [131] azmlinfsrv - Scoring timeout is set to 3600000\n2024-08-28 15:42:03,477 I [131] azmlinfsrv - Worker with pid 131 ready for serving traffic\n2024-08-28 15:42:06,050 I [131] gunicorn.access - 127.0.0.1 - - [28/Aug/2024:15:42:06 +0000] \"GET / HTTP/1.0\" 200 7 \"-\" \"kube-probe/1.18\"\n2024-08-28 15:42:10,156 I [131] gunicorn.access - 127.0.0.1 - - [28/Aug/2024:15:42:10 +0000] \"GET / HTTP/1.0\" 200 7 \"-\" \"kube-probe/1.18\"\n2024-08-28 15:42:16,050 I [131] gunicorn.access - 127.0.0.1 - - [28/Aug/2024:15:42:16 +0000] \"GET / HTTP/1.0\" 200 7 \"-\" \"kube-probe/1.18\"\n2024-08-28 15:42:20,156 I [131] gunicorn.access - 127.0.0.1 - - [28/Aug/2024:15:42:20 +0000] \"GET / HTTP/1.0\" 200 7 \"-\" \"kube-probe/1.18\"\n2024-08-28 15:42:26,050 I [131] gunicorn.access - 127.0.0.1 - - [28/Aug/2024:15:42:26 +0000] \"GET / HTTP/1.0\" 200 7 \"-\" \"kube-probe/1.18\"\n2024-08-28 15:42:30,156 I [131] gunicorn.access - 127.0.0.1 - - [28/Aug/2024:15:42:30 +0000] \"GET / HTTP/1.0\" 200 7 \"-\" \"kube-probe/1.18\"\n2024-08-28 15:42:36,050 I [131] gunicorn.access - 127.0.0.1 - - [28/Aug/2024:15:42:36 +0000] \"GET / HTTP/1.0\" 200 7 \"-\" \"kube-probe/1.18\"\n2024-08-28 15:42:40,156 I [131] gunicorn.access - 127.0.0.1 - - [28/Aug/2024:15:42:40 +0000] \"GET / HTTP/1.0\" 200 7 \"-\" \"kube-probe/1.18\"\n2024-08-28 15:42:46,049 I [131] gunicorn.access - 127.0.0.1 - - [28/Aug/2024:15:42:46 +0000] \"GET / HTTP/1.0\" 200 7 \"-\" \"kube-probe/1.18\"\n2024-08-28 15:42:50,156 I [131] gunicorn.access - 127.0.0.1 - - [28/Aug/2024:15:42:50 +0000] \"GET / HTTP/1.0\" 200 7 \"-\" \"kube-probe/1.18\"\n2024-08-28 15:42:56,050 I [131] gunicorn.access - 127.0.0.1 - - [28/Aug/2024:15:42:56 +0000] \"GET / HTTP/1.0\" 200 7 \"-\" \"kube-probe/1.18\"\n2024-08-28 15:43:00,156 I [131] gunicorn.access - 127.0.0.1 - - [28/Aug/2024:15:43:00 +0000] \"GET / HTTP/1.0\" 200 7 \"-\" \"kube-probe/1.18\"\n2024-08-28 15:43:06,050 I [131] gunicorn.access - 127.0.0.1 - - [28/Aug/2024:15:43:06 +0000] \"GET / HTTP/1.0\" 200 7 \"-\" \"kube-probe/1.18\"\n2024-08-28 15:43:10,155 I [131] gunicorn.access - 127.0.0.1 - - [28/Aug/2024:15:43:10 +0000] \"GET / HTTP/1.0\" 200 7 \"-\" \"kube-probe/1.18\"\n2024-08-28 15:43:16,050 I [131] gunicorn.access - 127.0.0.1 - - [28/Aug/2024:15:43:16 +0000] \"GET / HTTP/1.0\" 200 7 \"-\" \"kube-probe/1.18\"\n2024-08-28 15:43:20,156 I [131] gunicorn.access - 127.0.0.1 - - [28/Aug/2024:15:43:20 +0000] \"GET / HTTP/1.0\" 200 7 \"-\" \"kube-probe/1.18\"\n2024-08-28 15:43:26,050 I [131] gunicorn.access - 127.0.0.1 - - [28/Aug/2024:15:43:26 +0000] \"GET / HTTP/1.0\" 200 7 \"-\" \"kube-probe/1.18\"\n2024-08-28 15:43:30,156 I [131] gunicorn.access - 127.0.0.1 - - [28/Aug/2024:15:43:30 +0000] \"GET / HTTP/1.0\" 200 7 \"-\" \"kube-probe/1.18\"\n2024-08-28 15:43:36,050 I [131] gunicorn.access - 127.0.0.1 - - [28/Aug/2024:15:43:36 +0000] \"GET / HTTP/1.0\" 200 7 \"-\" \"kube-probe/1.18\"\nERROR:entry_module:Error collecting model_inputs collection request. name 'inputs_collector' is not defined\nERROR:entry_module:Error collecting model_outputs collection request. name 'outputs_collector' is not defined\n2024-08-28 15:43:37,787 I [131] azmlinfsrv - POST /score 200 8.787ms 6\n2024-08-28 15:43:37,788 I [131] gunicorn.access - 127.0.0.1 - - [28/Aug/2024:15:43:37 +0000] \"POST /score HTTP/1.0\" 200 6 \"-\" \"azure-ai-ml/1.16.1 azsdk-python-core/1.30.2 Python/3.10.14 (Linux-5.15.0-1064-azure-x86_64-with-glibc2.31)\"\n\n\n"
        }
      ],
      "execution_count": 20,
      "metadata": {
        "gather": {
          "logged": 1724859818281
        }
      }
    },
    {
      "cell_type": "markdown",
      "source": [
        "### Create a second deployment"
      ],
      "metadata": {}
    },
    {
      "cell_type": "code",
      "source": [
        "# pick the model to deploy. Here we use the latest version of the registered model\n",
        "model = ml_client.models.get(name=registered_model_name, version=latest_model_version)\n",
        "\n",
        "green_deployment = ManagedOnlineDeployment(\n",
        "    name=\"green\",\n",
        "    endpoint_name=online_endpoint_name,\n",
        "    model=model,\n",
        "    instance_type=\"Standard_F4s_v2\",\n",
        "    instance_count=1,\n",
        ")\n",
        "\n",
        "# create the online deployment\n",
        "# expect the deployment to take approximately 8 to 10 minutes\n",
        "green_deployment = ml_client.online_deployments.begin_create_or_update(\n",
        "    green_deployment\n",
        ").result()"
      ],
      "outputs": [
        {
          "output_type": "stream",
          "name": "stderr",
          "text": "Check: endpoint credit-endpoint-eea481bc exists\n"
        },
        {
          "output_type": "stream",
          "name": "stdout",
          "text": "........................................................................."
        }
      ],
      "execution_count": 21,
      "metadata": {
        "gather": {
          "logged": 1724860189613
        }
      }
    },
    {
      "cell_type": "markdown",
      "source": [
        "### Scaling deployment to handle more traffic"
      ],
      "metadata": {}
    },
    {
      "cell_type": "code",
      "source": [
        "# update definition of the deployment\n",
        "green_deployment.instance_count = 2\n",
        "\n",
        "# update the deployment\n",
        "# expect the deployment to take approximately 8 to 10 minutes\n",
        "ml_client.online_deployments.begin_create_or_update(green_deployment).result()"
      ],
      "outputs": [
        {
          "output_type": "stream",
          "name": "stderr",
          "text": "Check: endpoint credit-endpoint-eea481bc exists\n"
        },
        {
          "output_type": "stream",
          "name": "stdout",
          "text": "........................................................."
        },
        {
          "output_type": "execute_result",
          "execution_count": 22,
          "data": {
            "text/plain": "ManagedOnlineDeployment({'private_network_connection': None, 'package_model': False, 'provisioning_state': 'Succeeded', 'endpoint_name': 'credit-endpoint-eea481bc', 'type': 'Managed', 'name': 'green', 'description': None, 'tags': {}, 'properties': {'AzureAsyncOperationUri': 'https://management.azure.com/subscriptions/8b20e38c-72fb-4030-a702-128e713479ca/providers/Microsoft.MachineLearningServices/locations/westeurope/mfeOperationsStatus/odidp:9d51182b-b7c7-49fd-9d62-553e1490a69c:6d68596f-4745-412f-bfd9-5d2e42f452a3?api-version=2023-04-01-preview'}, 'print_as_yaml': False, 'id': '/subscriptions/8b20e38c-72fb-4030-a702-128e713479ca/resourceGroups/dscglobalceedtanltst/providers/Microsoft.MachineLearningServices/workspaces/alexlearn_ML_Studio/onlineEndpoints/credit-endpoint-eea481bc/deployments/green', 'Resource__source_path': '', 'base_path': '/mnt/batch/tasks/shared/LS_root/mounts/clusters/alexlearncompute/code/Users/alexey.kazakov/likelihood of credit card payment', 'creation_context': None, 'serialize': <msrest.serialization.Serializer object at 0x7f074a620460>, 'model': '/subscriptions/8b20e38c-72fb-4030-a702-128e713479ca/resourceGroups/dscglobalceedtanltst/providers/Microsoft.MachineLearningServices/workspaces/alexlearn_ML_Studio/models/credit_defaults_model/versions/2', 'code_configuration': None, 'environment': '/subscriptions/8b20e38c-72fb-4030-a702-128e713479ca/resourceGroups/dscglobalceedtanltst/providers/Microsoft.MachineLearningServices/workspaces/alexlearn_ML_Studio/environments/DefaultNcdEnv-mlflow-ubuntu20-04-py38-cpu-inference/versions/20240805v1', 'environment_variables': {'MLFLOW_MODEL_FOLDER': 'credit_defaults_model', 'AZUREML_EXTRA_CONDA_YAML_ABS_PATH': '/var/azureml-app/azureml-models/credit_defaults_model/2/credit_defaults_model/conda.yaml', 'AZUREML_MODEL_DIR': '/var/azureml-app/azureml-models/credit_defaults_model/2'}, 'app_insights_enabled': False, 'scale_settings': <azure.ai.ml.entities._deployment.scale_settings.DefaultScaleSettings object at 0x7f074a6202b0>, 'request_settings': <azure.ai.ml.entities._deployment.deployment_settings.OnlineRequestSettings object at 0x7f074a620c40>, 'liveness_probe': <azure.ai.ml.entities._deployment.deployment_settings.ProbeSettings object at 0x7f074a6213f0>, 'readiness_probe': <azure.ai.ml.entities._deployment.deployment_settings.ProbeSettings object at 0x7f074a622230>, 'instance_count': 2, 'arm_type': 'online_deployment', 'model_mount_path': None, 'instance_type': 'Standard_F4s_v2', 'data_collector': None, 'egress_public_network_access': 'Enabled'})"
          },
          "metadata": {}
        }
      ],
      "execution_count": 22,
      "metadata": {
        "gather": {
          "logged": 1724860478727
        }
      }
    },
    {
      "cell_type": "markdown",
      "source": [
        "### Updating traffic allocation for deployments"
      ],
      "metadata": {}
    },
    {
      "cell_type": "code",
      "source": [
        "endpoint.traffic = {\"blue\": 80, \"green\": 20}\n",
        "ml_client.online_endpoints.begin_create_or_update(endpoint).result()"
      ],
      "outputs": [
        {
          "output_type": "stream",
          "name": "stderr",
          "text": "Readonly attribute principal_id will be ignored in class <class 'azure.ai.ml._restclient.v2022_05_01.models._models_py3.ManagedServiceIdentity'>\nReadonly attribute tenant_id will be ignored in class <class 'azure.ai.ml._restclient.v2022_05_01.models._models_py3.ManagedServiceIdentity'>\n"
        },
        {
          "output_type": "execute_result",
          "execution_count": 23,
          "data": {
            "text/plain": "ManagedOnlineEndpoint({'public_network_access': 'Enabled', 'provisioning_state': 'Succeeded', 'scoring_uri': 'https://credit-endpoint-eea481bc.westeurope.inference.ml.azure.com/score', 'openapi_uri': 'https://credit-endpoint-eea481bc.westeurope.inference.ml.azure.com/swagger.json', 'name': 'credit-endpoint-eea481bc', 'description': 'this is an online endpoint', 'tags': {'training_dataset': 'credit_defaults'}, 'properties': {'createdBy': 'Alexey Kazakov (DHL Supply Chain)', 'createdAt': '2024-08-28T15:34:37.956189+0000', 'lastModifiedAt': '2024-08-28T15:34:37.956189+0000', 'azureml.onlineendpointid': '/subscriptions/8b20e38c-72fb-4030-a702-128e713479ca/resourcegroups/dscglobalceedtanltst/providers/microsoft.machinelearningservices/workspaces/alexlearn_ml_studio/onlineendpoints/credit-endpoint-eea481bc', 'AzureAsyncOperationUri': 'https://management.azure.com/subscriptions/8b20e38c-72fb-4030-a702-128e713479ca/providers/Microsoft.MachineLearningServices/locations/westeurope/mfeOperationsStatus/oeidp:9d51182b-b7c7-49fd-9d62-553e1490a69c:a01d684a-4f5e-424e-ab04-e3cb7fd66cd9?api-version=2022-02-01-preview'}, 'print_as_yaml': False, 'id': '/subscriptions/8b20e38c-72fb-4030-a702-128e713479ca/resourceGroups/dscglobalceedtanltst/providers/Microsoft.MachineLearningServices/workspaces/alexlearn_ML_Studio/onlineEndpoints/credit-endpoint-eea481bc', 'Resource__source_path': '', 'base_path': '/mnt/batch/tasks/shared/LS_root/mounts/clusters/alexlearncompute/code/Users/alexey.kazakov/likelihood of credit card payment', 'creation_context': None, 'serialize': <msrest.serialization.Serializer object at 0x7f074a621510>, 'auth_mode': 'key', 'location': 'westeurope', 'identity': <azure.ai.ml.entities._credentials.IdentityConfiguration object at 0x7f074a621480>, 'traffic': {'blue': 80, 'green': 20}, 'mirror_traffic': {}, 'kind': 'Managed'})"
          },
          "metadata": {}
        }
      ],
      "execution_count": 23,
      "metadata": {
        "gather": {
          "logged": 1724860510151
        }
      }
    },
    {
      "cell_type": "markdown",
      "source": [
        "##### Testing traffic allocation by invoking the endpoint several times"
      ],
      "metadata": {}
    },
    {
      "cell_type": "code",
      "source": [
        "response_list = []\n",
        "for i in range(30):\n",
        "    response = ml_client.online_endpoints.invoke(\n",
        "        endpoint_name=online_endpoint_name,\n",
        "        request_file=\"./deploy/sample-request.json\"\n",
        "    )\n",
        "    response_list.append(response)\n",
        "print(response_list[-5:])"
      ],
      "outputs": [
        {
          "output_type": "stream",
          "name": "stdout",
          "text": "['[1, 0]', '[1, 0]', '[1, 0]', '[1, 0]', '[1, 0]']\n"
        }
      ],
      "execution_count": 25,
      "metadata": {
        "gather": {
          "logged": 1724860903372
        }
      }
    },
    {
      "cell_type": "code",
      "source": [
        "logs = ml_client.online_deployments.get_logs(\n",
        "    name=\"green\", endpoint_name=online_endpoint_name, lines=50\n",
        ")\n",
        "print(logs)"
      ],
      "outputs": [
        {
          "output_type": "stream",
          "name": "stdout",
          "text": "Instance status:\nSystemSetup: Succeeded\nUserContainerImagePull: Succeeded\nModelDownload: Succeeded\nUserContainerStart: Succeeded\n\nContainer events:\nKind: Pod, Name: Downloading, Type: Normal, Time: 2024-08-28T15:47:02.893118Z, Message: Start downloading models\nKind: Pod, Name: Pulling, Type: Normal, Time: 2024-08-28T15:47:03.225485Z, Message: Start pulling container image\nKind: Pod, Name: Pulled, Type: Normal, Time: 2024-08-28T15:47:39.031782Z, Message: Container image is pulled successfully\nKind: Pod, Name: Downloaded, Type: Normal, Time: 2024-08-28T15:47:39.031782Z, Message: Models are downloaded successfully\nKind: Pod, Name: Created, Type: Normal, Time: 2024-08-28T15:47:39.159697Z, Message: Created container inference-server\nKind: Pod, Name: Started, Type: Normal, Time: 2024-08-28T15:47:39.220683Z, Message: Started container inference-server\nKind: Pod, Name: ReadinessProbeFailed, Type: Warning, Time: 2024-08-28T15:47:55.907302Z, Message: Readiness probe failed: HTTP probe failed with statuscode: 502\nKind: Pod, Name: LivenessProbeFailed, Type: Warning, Time: 2024-08-28T15:47:58.381573Z, Message: Liveness probe failed: HTTP probe failed with statuscode: 502\nKind: Pod, Name: ReadinessProbeFailed, Type: Warning, Time: 2024-08-28T15:48:05.907053Z, Message: Readiness probe failed: HTTP probe failed with statuscode: 502\nKind: Pod, Name: LivenessProbeFailed, Type: Warning, Time: 2024-08-28T15:48:08.381619Z, Message: Liveness probe failed: HTTP probe failed with statuscode: 502\nKind: Pod, Name: ReadinessProbeFailed, Type: Warning, Time: 2024-08-28T15:48:15.907128Z, Message: Readiness probe failed: HTTP probe failed with statuscode: 502\nKind: Pod, Name: LivenessProbeFailed, Type: Warning, Time: 2024-08-28T15:48:18.381516Z, Message: Liveness probe failed: HTTP probe failed with statuscode: 502\nKind: Pod, Name: ReadinessProbeFailed, Type: Warning, Time: 2024-08-28T15:48:25.907045Z, Message: Readiness probe failed: HTTP probe failed with statuscode: 502\nKind: Pod, Name: LivenessProbeFailed, Type: Warning, Time: 2024-08-28T15:48:28.381708Z, Message: Liveness probe failed: HTTP probe failed with statuscode: 502\nKind: Pod, Name: ReadinessProbeFailed, Type: Warning, Time: 2024-08-28T15:48:35.90709Z, Message: Readiness probe failed: HTTP probe failed with statuscode: 502\nKind: Pod, Name: LivenessProbeFailed, Type: Warning, Time: 2024-08-28T15:48:38.381576Z, Message: Liveness probe failed: HTTP probe failed with statuscode: 502\nKind: Pod, Name: ReadinessProbeFailed, Type: Warning, Time: 2024-08-28T15:48:45.906878Z, Message: Readiness probe failed: HTTP probe failed with statuscode: 502\nKind: Pod, Name: LivenessProbeFailed, Type: Warning, Time: 2024-08-28T15:48:48.381456Z, Message: Liveness probe failed: HTTP probe failed with statuscode: 502\nKind: Pod, Name: ReadinessProbeFailed, Type: Warning, Time: 2024-08-28T15:48:55.906958Z, Message: Readiness probe failed: HTTP probe failed with statuscode: 502\nKind: Pod, Name: ContainerReady, Type: Normal, Time: 2024-08-28T15:49:09.999556992Z, Message: Container is ready\n\nContainer logs:\n2024-08-28 16:01:33,920 I [131] azmlinfsrv - POST /score 200 5.429ms 6\n2024-08-28 16:01:33,920 I [131] gunicorn.access - 127.0.0.1 - - [28/Aug/2024:16:01:33 +0000] \"POST /score HTTP/1.0\" 200 6 \"-\" \"azure-ai-ml/1.16.1 azsdk-python-core/1.30.2 Python/3.10.14 (Linux-5.15.0-1064-azure-x86_64-with-glibc2.31)\"\nERROR:entry_module:Error collecting model_inputs collection request. name 'inputs_collector' is not defined\nERROR:entry_module:Error collecting model_outputs collection request. name 'outputs_collector' is not defined\n2024-08-28 16:01:34,760 I [131] azmlinfsrv - POST /score 200 5.762ms 6\n2024-08-28 16:01:34,761 I [131] gunicorn.access - 127.0.0.1 - - [28/Aug/2024:16:01:34 +0000] \"POST /score HTTP/1.0\" 200 6 \"-\" \"azure-ai-ml/1.16.1 azsdk-python-core/1.30.2 Python/3.10.14 (Linux-5.15.0-1064-azure-x86_64-with-glibc2.31)\"\nERROR:entry_module:Error collecting model_inputs collection request. name 'inputs_collector' is not defined\nERROR:entry_module:Error collecting model_outputs collection request. name 'outputs_collector' is not defined\n2024-08-28 16:01:35,623 I [131] azmlinfsrv - POST /score 200 6.102ms 6\n2024-08-28 16:01:35,623 I [131] gunicorn.access - 127.0.0.1 - - [28/Aug/2024:16:01:35 +0000] \"POST /score HTTP/1.0\" 200 6 \"-\" \"azure-ai-ml/1.16.1 azsdk-python-core/1.30.2 Python/3.10.14 (Linux-5.15.0-1064-azure-x86_64-with-glibc2.31)\"\n2024-08-28 16:01:35,907 I [131] gunicorn.access - 127.0.0.1 - - [28/Aug/2024:16:01:35 +0000] \"GET / HTTP/1.0\" 200 7 \"-\" \"kube-probe/1.18\"\nERROR:entry_module:Error collecting model_inputs collection request. name 'inputs_collector' is not defined\nERROR:entry_module:Error collecting model_outputs collection request. name 'outputs_collector' is not defined\n2024-08-28 16:01:36,351 I [131] azmlinfsrv - POST /score 200 6.422ms 6\n2024-08-28 16:01:36,352 I [131] gunicorn.access - 127.0.0.1 - - [28/Aug/2024:16:01:36 +0000] \"POST /score HTTP/1.0\" 200 6 \"-\" \"azure-ai-ml/1.16.1 azsdk-python-core/1.30.2 Python/3.10.14 (Linux-5.15.0-1064-azure-x86_64-with-glibc2.31)\"\nERROR:entry_module:Error collecting model_inputs collection request. name 'inputs_collector' is not defined\nERROR:entry_module:Error collecting model_outputs collection request. name 'outputs_collector' is not defined\n2024-08-28 16:01:36,969 I [131] azmlinfsrv - POST /score 200 6.631ms 6\n2024-08-28 16:01:36,969 I [131] gunicorn.access - 127.0.0.1 - - [28/Aug/2024:16:01:36 +0000] \"POST /score HTTP/1.0\" 200 6 \"-\" \"azure-ai-ml/1.16.1 azsdk-python-core/1.30.2 Python/3.10.14 (Linux-5.15.0-1064-azure-x86_64-with-glibc2.31)\"\nERROR:entry_module:Error collecting model_inputs collection request. name 'inputs_collector' is not defined\nERROR:entry_module:Error collecting model_outputs collection request. name 'outputs_collector' is not defined\n2024-08-28 16:01:37,557 I [131] azmlinfsrv - POST /score 200 5.326ms 6\n2024-08-28 16:01:37,557 I [131] gunicorn.access - 127.0.0.1 - - [28/Aug/2024:16:01:37 +0000] \"POST /score HTTP/1.0\" 200 6 \"-\" \"azure-ai-ml/1.16.1 azsdk-python-core/1.30.2 Python/3.10.14 (Linux-5.15.0-1064-azure-x86_64-with-glibc2.31)\"\nERROR:entry_module:Error collecting model_inputs collection request. name 'inputs_collector' is not defined\nERROR:entry_module:Error collecting model_outputs collection request. name 'outputs_collector' is not defined\n2024-08-28 16:01:38,339 I [131] azmlinfsrv - POST /score 200 6.162ms 6\n2024-08-28 16:01:38,339 I [131] gunicorn.access - 127.0.0.1 - - [28/Aug/2024:16:01:38 +0000] \"POST /score HTTP/1.0\" 200 6 \"-\" \"azure-ai-ml/1.16.1 azsdk-python-core/1.30.2 Python/3.10.14 (Linux-5.15.0-1064-azure-x86_64-with-glibc2.31)\"\n2024-08-28 16:01:38,382 I [131] gunicorn.access - 127.0.0.1 - - [28/Aug/2024:16:01:38 +0000] \"GET / HTTP/1.0\" 200 7 \"-\" \"kube-probe/1.18\"\nERROR:entry_module:Error collecting model_inputs collection request. name 'inputs_collector' is not defined\nERROR:entry_module:Error collecting model_outputs collection request. name 'outputs_collector' is not defined\n2024-08-28 16:01:39,331 I [131] azmlinfsrv - POST /score 200 5.480ms 6\n2024-08-28 16:01:39,332 I [131] gunicorn.access - 127.0.0.1 - - [28/Aug/2024:16:01:39 +0000] \"POST /score HTTP/1.0\" 200 6 \"-\" \"azure-ai-ml/1.16.1 azsdk-python-core/1.30.2 Python/3.10.14 (Linux-5.15.0-1064-azure-x86_64-with-glibc2.31)\"\nERROR:entry_module:Error collecting model_inputs collection request. name 'inputs_collector' is not defined\nERROR:entry_module:Error collecting model_outputs collection request. name 'outputs_collector' is not defined\n2024-08-28 16:01:39,998 I [131] azmlinfsrv - POST /score 200 6.007ms 6\n2024-08-28 16:01:39,999 I [131] gunicorn.access - 127.0.0.1 - - [28/Aug/2024:16:01:39 +0000] \"POST /score HTTP/1.0\" 200 6 \"-\" \"azure-ai-ml/1.16.1 azsdk-python-core/1.30.2 Python/3.10.14 (Linux-5.15.0-1064-azure-x86_64-with-glibc2.31)\"\nERROR:entry_module:Error collecting model_inputs collection request. name 'inputs_collector' is not defined\nERROR:entry_module:Error collecting model_outputs collection request. name 'outputs_collector' is not defined\n2024-08-28 16:01:40,828 I [131] azmlinfsrv - POST /score 200 6.076ms 6\n2024-08-28 16:01:40,829 I [131] gunicorn.access - 127.0.0.1 - - [28/Aug/2024:16:01:40 +0000] \"POST /score HTTP/1.0\" 200 6 \"-\" \"azure-ai-ml/1.16.1 azsdk-python-core/1.30.2 Python/3.10.14 (Linux-5.15.0-1064-azure-x86_64-with-glibc2.31)\"\nERROR:entry_module:Error collecting model_inputs collection request. name 'inputs_collector' is not defined\nERROR:entry_module:Error collecting model_outputs collection request. name 'outputs_collector' is not defined\n2024-08-28 16:01:41,531 I [131] azmlinfsrv - POST /score 200 5.438ms 6\n2024-08-28 16:01:41,532 I [131] gunicorn.access - 127.0.0.1 - - [28/Aug/2024:16:01:41 +0000] \"POST /score HTTP/1.0\" 200 6 \"-\" \"azure-ai-ml/1.16.1 azsdk-python-core/1.30.2 Python/3.10.14 (Linux-5.15.0-1064-azure-x86_64-with-glibc2.31)\"\nERROR:entry_module:Error collecting model_inputs collection request. name 'inputs_collector' is not defined\nERROR:entry_module:Error collecting model_outputs collection request. name 'outputs_collector' is not defined\n2024-08-28 16:01:42,896 I [131] azmlinfsrv - POST /score 200 5.259ms 6\n2024-08-28 16:01:42,896 I [131] gunicorn.access - 127.0.0.1 - - [28/Aug/2024:16:01:42 +0000] \"POST /score HTTP/1.0\" 200 6 \"-\" \"azure-ai-ml/1.16.1 azsdk-python-core/1.30.2 Python/3.10.14 (Linux-5.15.0-1064-azure-x86_64-with-glibc2.31)\"\n2024-08-28 16:01:45,907 I [131] gunicorn.access - 127.0.0.1 - - [28/Aug/2024:16:01:45 +0000] \"GET / HTTP/1.0\" 200 7 \"-\" \"kube-probe/1.18\"\n2024-08-28 16:01:48,385 I [131] gunicorn.access - 127.0.0.1 - - [28/Aug/2024:16:01:48 +0000] \"GET / HTTP/1.0\" 200 7 \"-\" \"kube-probe/1.18\"\n\n\n"
        }
      ],
      "execution_count": 26,
      "metadata": {
        "gather": {
          "logged": 1724860908800
        }
      }
    },
    {
      "cell_type": "markdown",
      "source": [
        "### Send all traffic to the new deployment"
      ],
      "metadata": {
        "nteract": {
          "transient": {
            "deleting": false
          }
        }
      }
    },
    {
      "cell_type": "code",
      "source": [
        "endpoint.traffic = {\"blue\": 0, \"green\": 100}\n",
        "ml_client.begin_create_or_update(endpoint).result()"
      ],
      "outputs": [
        {
          "output_type": "stream",
          "name": "stderr",
          "text": "Readonly attribute principal_id will be ignored in class <class 'azure.ai.ml._restclient.v2022_05_01.models._models_py3.ManagedServiceIdentity'>\nReadonly attribute tenant_id will be ignored in class <class 'azure.ai.ml._restclient.v2022_05_01.models._models_py3.ManagedServiceIdentity'>\n"
        },
        {
          "output_type": "execute_result",
          "execution_count": 27,
          "data": {
            "text/plain": "ManagedOnlineEndpoint({'public_network_access': 'Enabled', 'provisioning_state': 'Succeeded', 'scoring_uri': 'https://credit-endpoint-eea481bc.westeurope.inference.ml.azure.com/score', 'openapi_uri': 'https://credit-endpoint-eea481bc.westeurope.inference.ml.azure.com/swagger.json', 'name': 'credit-endpoint-eea481bc', 'description': 'this is an online endpoint', 'tags': {'training_dataset': 'credit_defaults'}, 'properties': {'createdBy': 'Alexey Kazakov (DHL Supply Chain)', 'createdAt': '2024-08-28T15:34:37.956189+0000', 'lastModifiedAt': '2024-08-28T15:34:37.956189+0000', 'azureml.onlineendpointid': '/subscriptions/8b20e38c-72fb-4030-a702-128e713479ca/resourcegroups/dscglobalceedtanltst/providers/microsoft.machinelearningservices/workspaces/alexlearn_ml_studio/onlineendpoints/credit-endpoint-eea481bc', 'AzureAsyncOperationUri': 'https://management.azure.com/subscriptions/8b20e38c-72fb-4030-a702-128e713479ca/providers/Microsoft.MachineLearningServices/locations/westeurope/mfeOperationsStatus/oeidp:9d51182b-b7c7-49fd-9d62-553e1490a69c:08b73451-7eb7-4674-96f5-6776f1ebc67a?api-version=2022-02-01-preview'}, 'print_as_yaml': False, 'id': '/subscriptions/8b20e38c-72fb-4030-a702-128e713479ca/resourceGroups/dscglobalceedtanltst/providers/Microsoft.MachineLearningServices/workspaces/alexlearn_ML_Studio/onlineEndpoints/credit-endpoint-eea481bc', 'Resource__source_path': '', 'base_path': '/mnt/batch/tasks/shared/LS_root/mounts/clusters/alexlearncompute/code/Users/alexey.kazakov/likelihood of credit card payment', 'creation_context': None, 'serialize': <msrest.serialization.Serializer object at 0x7f074a66ee60>, 'auth_mode': 'key', 'location': 'westeurope', 'identity': <azure.ai.ml.entities._credentials.IdentityConfiguration object at 0x7f074a66c940>, 'traffic': {'green': 100}, 'mirror_traffic': {}, 'kind': 'Managed'})"
          },
          "metadata": {}
        }
      ],
      "execution_count": 27,
      "metadata": {
        "jupyter": {
          "source_hidden": false,
          "outputs_hidden": false
        },
        "nteract": {
          "transient": {
            "deleting": false
          }
        },
        "gather": {
          "logged": 1724860953396
        }
      }
    },
    {
      "cell_type": "markdown",
      "source": [
        "### Delete the old deployment"
      ],
      "metadata": {
        "nteract": {
          "transient": {
            "deleting": false
          }
        }
      }
    },
    {
      "cell_type": "code",
      "source": [
        "ml_client.online_deployments.begin_delete(\n",
        "    name=\"blue\", endpoint_name=online_endpoint_name\n",
        ").result()"
      ],
      "outputs": [],
      "execution_count": 28,
      "metadata": {
        "jupyter": {
          "source_hidden": false,
          "outputs_hidden": false
        },
        "nteract": {
          "transient": {
            "deleting": false
          }
        },
        "gather": {
          "logged": 1724861255660
        }
      }
    },
    {
      "cell_type": "markdown",
      "source": [
        "### Clean up"
      ],
      "metadata": {
        "nteract": {
          "transient": {
            "deleting": false
          }
        }
      }
    },
    {
      "cell_type": "code",
      "source": [
        "ml_client.online_endpoints.begin_delete(name=online_endpoint_name).result()"
      ],
      "outputs": [
        {
          "output_type": "stream",
          "name": "stdout",
          "text": "................................................................."
        }
      ],
      "execution_count": 29,
      "metadata": {
        "jupyter": {
          "source_hidden": false,
          "outputs_hidden": false
        },
        "nteract": {
          "transient": {
            "deleting": false
          }
        },
        "gather": {
          "logged": 1724861584023
        }
      }
    }
  ],
  "metadata": {
    "kernelspec": {
      "name": "python310-sdkv2",
      "language": "python",
      "display_name": "Python 3.10 - SDK v2"
    },
    "language_info": {
      "name": "python",
      "version": "3.10.14",
      "mimetype": "text/x-python",
      "codemirror_mode": {
        "name": "ipython",
        "version": 3
      },
      "pygments_lexer": "ipython3",
      "nbconvert_exporter": "python",
      "file_extension": ".py"
    },
    "microsoft": {
      "ms_spell_check": {
        "ms_spell_check_language": "en"
      },
      "host": {
        "AzureML": {
          "notebookHasBeenCompleted": true
        }
      }
    },
    "kernel_info": {
      "name": "python310-sdkv2"
    },
    "nteract": {
      "version": "nteract-front-end@1.0.0"
    }
  },
  "nbformat": 4,
  "nbformat_minor": 2
}